{
 "cells": [
  {
   "cell_type": "code",
   "execution_count": 41,
   "metadata": {
    "collapsed": true
   },
   "outputs": [],
   "source": [
    "%matplotlib inline"
   ]
  },
  {
   "cell_type": "code",
   "execution_count": 42,
   "metadata": {},
   "outputs": [
    {
     "data": {
      "text/plain": [
       "<matplotlib.legend.Legend at 0x1bc357c9d68>"
      ]
     },
     "execution_count": 42,
     "metadata": {},
     "output_type": "execute_result"
    },
    {
     "data": {
      "image/png": "[encoded data removed]",
      "text/plain": [
       "<matplotlib.figure.Figure at 0x1bc34760128>"
      ]
     },
     "metadata": {},
     "output_type": "display_data"
    }
   ],
   "source": [
    "from sklearn.externals.joblib import Memory\n",
    "from sklearn.datasets import load_svmlight_file\n",
    "from sklearn.model_selection import train_test_split\n",
    "import numpy as np\n",
    "import matplotlib.pyplot as plt\n",
    "\n",
    "def get_data():\n",
    "    data = load_svmlight_file(\"./housing_scale.txt\")\n",
    "    return data[0].todense(), data[1].reshape(len(data[1]),1)\n",
    "def split_data(X,y):\n",
    "    X_train, X_validation, y_train, y_validation = train_test_split(X,y,test_size=0.3)\n",
    "    return X_train, X_validation, y_train, y_validation\n",
    "def gradient_compute(X, y, w, m):\n",
    "    return 2.0/m*(-X.T*y + X.T*X*w)\n",
    "def loss(X, y, w, m):\n",
    "    return 1.0/m*(y-X*w).T*(y-X*w)\n",
    "\n",
    "\n",
    "\n",
    "interation = 1000\n",
    "n = 0.05\n",
    "Interation = []\n",
    "loss_train = []\n",
    "loss_validation = []\n",
    "feature, label = get_data()\n",
    "feature_train, feature_validation, label_train, label_validation = split_data(feature,label)\n",
    "row, column = feature.shape[0], feature.shape[1]\n",
    "\n",
    "w = np.zeros(column).reshape(column,1)\n",
    "\n",
    "for i in range(0,interation):\n",
    "    gradient = gradient_compute(feature, label, w, row)\n",
    "    D = -gradient\n",
    "    w = w + n*D\n",
    "    Interation.append(i)\n",
    "    loss_train.append(loss(feature_train, label_train, w, feature_train.shape[0]).sum())\n",
    "    loss_validation.append(loss(feature_validation, label_validation, w, feature_validation.shape[0]).sum())\n",
    "\n",
    "\n",
    "plt.xlabel(\"Interation\")\n",
    "plt.ylabel(\"Loss\")\n",
    "plt.plot(Interation,loss_train,label = \"train\")\n",
    "plt.plot(Interation,loss_validation,label = \"validation\")\n",
    "plt.legend(loc='upper right')\n",
    "\n",
    "    \n",
    "\n"
   ]
  },
  {
   "cell_type": "code",
   "execution_count": null,
   "metadata": {
    "collapsed": true
   },
   "outputs": [],
   "source": []
  }
 ],
 "metadata": {
  "kernelspec": {
   "display_name": "Python 3",
   "language": "python",
   "name": "python3"
  },
  "language_info": {
   "codemirror_mode": {
    "name": "ipython",
    "version": 3
   },
   "file_extension": ".py",
   "mimetype": "text/x-python",
   "name": "python",
   "nbconvert_exporter": "python",
   "pygments_lexer": "ipython3",
   "version": "3.6.3"
  }
 },
 "nbformat": 4,
 "nbformat_minor": 2
}
